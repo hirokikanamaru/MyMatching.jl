{
 "cells": [
  {
   "cell_type": "markdown",
   "metadata": {},
   "source": [
    "## Original function definition\n",
    "\n",
    "(indent modified)"
   ]
  },
  {
   "cell_type": "code",
   "execution_count": 1,
   "metadata": {
    "collapsed": false,
    "scrolled": true
   },
   "outputs": [
    {
     "data": {
      "text/plain": [
       "my_deferred_acceptance (generic function with 1 method)"
      ]
     },
     "execution_count": 1,
     "metadata": {},
     "output_type": "execute_result"
    }
   ],
   "source": [
    "function my_deferred_acceptance(m_prefs, f_prefs)\n",
    "    #(m_prefs、f_prefs）を渡すとm_matchedとf_matchedが返る関数\n",
    "\n",
    "    m=length(m_prefs)\n",
    "    n=length(f_prefs)\n",
    "\n",
    "    #全ての要素が０の配列を作る\n",
    "    m_matched=Vector{Int64}(m)\n",
    "    f_matched=Vector{Int64}(n)\n",
    "    m_matched[:]=0\n",
    "    f_matched[:]=0\n",
    "\n",
    "    #男のインデックスと女のインデックスを渡すと、その男の順位が返ってくる関数（男が選好リストに入っていなければ０が返る）\n",
    "    function ranking(man ,woman)\n",
    "        if !(any(man in f_prefs[woman][i] for i in 1:length(f_prefs[woman])))\n",
    "            return 0\n",
    "        #女性の選好の中に男性が入っていなければ０を返す\n",
    "        else\n",
    "            for i in 1:length(f_prefs[woman])\n",
    "                if f_prefs[woman][i]==man\n",
    "                    return i\n",
    "        #女性からの男性の順位を返す\n",
    "                end\n",
    "            end\n",
    "        end\n",
    "    end\n",
    "\n",
    "\n",
    "    for j in 1:n\n",
    "    #男性の選好リストの１巡目、2巡目…\n",
    "        for i in 1:m\n",
    "            #各男性が順に動く\n",
    "            if n>=m&&all(m_matched.!=0)\n",
    "            #もし女の方が多く、男が全員マッチしていたら次の人に入らずmatchedを返す\n",
    "                break\n",
    "                return m_matched, f_matched\n",
    "            else\n",
    "                if j<=length(m_prefs[i])&&m_matched[i]==0\n",
    "                #ある男性がj巡目に、まだ選好を持ち、相手がいない\n",
    "                    like=m_prefs[i][j]\n",
    "                    #iさんj巡目のプロポーズ相手をlikeと定義する\n",
    "\n",
    "                    if ranking(i, like)!=0\n",
    "                    #プロポーズ相手の女性の選好リストにiさんが載っている\n",
    "                        if  f_matched[like]==0\n",
    "                            m_matched[i]=like\n",
    "                            f_matched[like]=i\n",
    "                        #女性に相手がいなければ、#マッチしているリストに追加\n",
    "                        elseif ranking(i, like)<ranking(f_matched[like],like)\n",
    "                            m_matched[f_matched[like]]=0\n",
    "                            m_matched[i]=like\n",
    "                            f_matched[like]=i\n",
    "                        #既にマッチしている人より順位が高い（数字が小さい）とき、既にマッチしていた組を変更する\n",
    "                        end\n",
    "                    end\n",
    "                end\n",
    "            end\n",
    "        end\n",
    "    end\n",
    "\n",
    "    return m_matched, f_matched\n",
    "end\n"
   ]
  },
  {
   "cell_type": "markdown",
   "metadata": {},
   "source": [
    "## Some modification"
   ]
  },
  {
   "cell_type": "markdown",
   "metadata": {},
   "source": [
    "### 1.\n",
    "\n",
    "In line 8-11, \n",
    "\n",
    "```julia\n",
    "m_matched=Vector{Int64}(m)\n",
    "f_matched=Vector{Int64}(n)\n",
    "m_matched[:]=0\n",
    "f_matched[:]=0\n",
    "```\n",
    "\n",
    "this is equivalent to\n",
    "\n",
    "```julia\n",
    "m_matched = zeros(Int64, m)\n",
    "f_matched = zeros(Int64, n)\n",
    "```\n",
    "\n",
    "e.g."
   ]
  },
  {
   "cell_type": "code",
   "execution_count": 6,
   "metadata": {
    "collapsed": false
   },
   "outputs": [
    {
     "data": {
      "text/plain": [
       "3-element Array{Int64,1}:\n",
       " 0\n",
       " 0\n",
       " 0"
      ]
     },
     "execution_count": 6,
     "metadata": {},
     "output_type": "execute_result"
    }
   ],
   "source": [
    "m_matched = zeros(Int64, 3)"
   ]
  },
  {
   "cell_type": "markdown",
   "metadata": {},
   "source": [
    "### 2."
   ]
  },
  {
   "cell_type": "markdown",
   "metadata": {},
   "source": [
    "In line 15,\n",
    "\n",
    "```julia\n",
    "if !(any(man in f_prefs[woman][i] for i in 1:length(f_prefs[woman])))\n",
    "```\n",
    "\n",
    "can be simply written as\n",
    "\n",
    "```julia\n",
    "if !(man in f_prefs[woman])\n",
    "```"
   ]
  },
  {
   "cell_type": "code",
   "execution_count": 9,
   "metadata": {
    "collapsed": false
   },
   "outputs": [
    {
     "name": "stdout",
     "output_type": "stream",
     "text": [
      "false\n",
      "true\n"
     ]
    }
   ],
   "source": [
    "f_prefs = [[2, 3], [2, 3, 4, 1], [4, 1, 2]]\n",
    "man = 3\n",
    "\n",
    "woman = 1\n",
    "println( !(man in f_prefs[woman]) )\n",
    "\n",
    "woman = 3\n",
    "println( !(man in f_prefs[woman]) )"
   ]
  },
  {
   "cell_type": "markdown",
   "metadata": {},
   "source": [
    "### 3.\n",
    "\n",
    "In line 33-36,\n",
    "\n",
    "```julia\n",
    "if n>=m&&all(m_matched.!=0)\n",
    "    #もし女の方が多く、男が全員マッチしていたら次の人に入らずmatchedを返す\n",
    "    break\n",
    "    return m_matched, f_matched\n",
    "```\n",
    "\n",
    "* ```n>=m``` is unnecessary. もし n<m だとしても, 男性が全員女性とマッチしていたらその時点で男性側からのproposeはなくなるので, アルゴリズムは終了.\n",
    "\n",
    "* ```break``` するとその後のreturn... は実行されず, 一番内側のfor loop(for i in 1:m)が終了してしまう. よってbreakを取る\n",
    "\n",
    "Then\n",
    "\n",
    "```julia\n",
    "if all(m_matched.!=0)\n",
    "    #もし女の方が多く、男が全員マッチしていたら次の人に入らずmatchedを返す\n",
    "    return m_matched, f_matched\n",
    "```"
   ]
  },
  {
   "cell_type": "markdown",
   "metadata": {},
   "source": [
    "### 4. \n",
    "\n",
    "In line 38,\n",
    "\n",
    "```julia\n",
    "if j<=length(m_prefs[i])&&m_matched[i]==0\n",
    "```\n",
    "\n",
    "この条件は少し問題がある. 例えば男性の集合Mと女性の集合Wを \n",
    "$M=\\{m_1, m_2, m_3\\},\\ W=\\{w_1, w_2, w_3\\}$\n",
    "として, 次のようなpreferenceを考える:\n",
    "\n",
    "| $\\mathbf{m_1}$ | $\\mathbf{m_2}$ | $\\mathbf{m_3}$ |\n",
    "|:-----------:|:------------:|:------------:|\n",
    "| $w_1$ | $w_2$ | $w_2$ |\n",
    "| $w_2$ | $w_1$ | $w_3$ |\n",
    "\n",
    "| $\\mathbf{w_1}$ | $\\mathbf{w_2}$ | $\\mathbf{w_3}$ |\n",
    "|:-----------:|:------------:|:------------:|\n",
    "| $m_2$ | $m_1$ | $m_3$ |\n",
    "| $m_1$ | $m_3$ | $m_2$ |\n",
    "\n",
    "このpreferenceのもとでMen-Proposing DAを行うと\n",
    "\n",
    "* j=1 のループ終了後のmatching: ($m_1$, $w_1$), ($m_3$, $w_2$)\n",
    "* j=2 のループ終了後のmatching: ($m_2$, $w_1$), ($m_3$, $w_2$)\n",
    "* j=3 のループ終了後のmatching: ($m_1$, $w_2$), ($m_2$, $w_1$), ($m_3$, $w_3$)\n",
    "\n",
    "となる. この例から, (`len(m_prefs[1]) == 1`だが) 実際にはj=3の時も$m_1$のmatchingは変更されうることがわかる. \n",
    "\n",
    "男性全員が女性全員に1度ずつproposeすればDAが終了することは保証される(∵ DAのプロセスで1度breakしたmatchingが後で復活することはない)ので, j=1〜nまでループすればアルゴリズムは終了する.\n",
    "\n",
    "しかしj=Jのとき, 「J番目以下のpreferenceしかmatchingに関係しない」とはいえない."
   ]
  },
  {
   "cell_type": "code",
   "execution_count": null,
   "metadata": {
    "collapsed": true
   },
   "outputs": [],
   "source": []
  }
 ],
 "metadata": {
  "anaconda-cloud": {},
  "kernelspec": {
   "display_name": "Julia 0.7.0-DEV",
   "language": "julia",
   "name": "julia-0.7"
  },
  "language_info": {
   "file_extension": ".jl",
   "mimetype": "application/julia",
   "name": "julia",
   "version": "0.7.0"
  }
 },
 "nbformat": 4,
 "nbformat_minor": 1
}
