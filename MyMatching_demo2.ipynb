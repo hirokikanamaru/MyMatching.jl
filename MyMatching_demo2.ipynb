{
 "cells": [
  {
   "cell_type": "markdown",
   "metadata": {},
   "source": [
    "<br />\n",
    "\n",
    "<div style=\"text-align:center;\">\n",
    "<font size = 4.5>課題５ Deferred Acceptance Matchingが提案側の利得を最大にする安定マッチングであることの実証</font>\n",
    "<font size = 5>金丸博樹</font>\n",
    "</div>\n",
    "<br />"
   ]
  },
  {
   "cell_type": "markdown",
   "metadata": {},
   "source": [
    "<font size = 4>Deferred Acceptance Matchingが提案側の利得を最大にする安定マッチングであることを、考え得る全ての安定マッチングの利得を比較することで示す。</font>"
   ]
  },
  {
   "cell_type": "markdown",
   "metadata": {},
   "source": [
    "<font size = 4>簡略化のために、男女の１：１マッチングを考え、男女は同数で、選好の長さは相手の人数と同数とする（必ず全員マッチする。）</font>"
   ]
  },
  {
   "cell_type": "markdown",
   "metadata": {},
   "source": [
    "<font size = 4>まず、男女の数をそれぞれ8人として、ランダムに選好を生成する。</font>"
   ]
  },
  {
   "cell_type": "code",
   "execution_count": 1,
   "metadata": {},
   "outputs": [
    {
     "data": {
      "text/plain": [
       "genprefs (generic function with 1 method)"
      ]
     },
     "execution_count": 1,
     "metadata": {},
     "output_type": "execute_result"
    }
   ],
   "source": [
    "function genprefs(m)\n",
    "    a=[i for i in 1:m]\n",
    "\n",
    "    male_prefs=Vector{Vector{Int}}(m)\n",
    "    female_prefs=Vector{Vector{Int}}(m)\n",
    "\n",
    "    for i in 1:length(female_prefs)\n",
    "        female_prefs[i]=shuffle(a)\n",
    "    end\n",
    "\n",
    "    for i in 1:length(male_prefs)\n",
    "        male_prefs[i]=shuffle(a)\n",
    "    end\n",
    "\n",
    "    a ,male_prefs, female_prefs\n",
    "end"
   ]
  },
  {
   "cell_type": "code",
   "execution_count": 2,
   "metadata": {},
   "outputs": [
    {
     "data": {
      "text/plain": [
       "([1, 2, 3, 4, 5, 6, 7, 8], Array{Int64,1}[[3, 6, 7, 4, 1, 2, 5, 8], [1, 5, 8, 4, 2, 6, 3, 7], [6, 4, 1, 3, 8, 5, 2, 7], [2, 7, 8, 3, 6, 4, 1, 5], [7, 2, 5, 1, 4, 3, 6, 8], [4, 6, 7, 5, 8, 3, 2, 1], [6, 7, 8, 4, 1, 3, 2, 5], [5, 6, 7, 8, 2, 1, 4, 3]], Array{Int64,1}[[8, 7, 6, 1, 4, 3, 5, 2], [6, 7, 3, 2, 8, 5, 1, 4], [7, 8, 6, 5, 4, 3, 1, 2], [8, 7, 5, 4, 1, 3, 6, 2], [5, 7, 4, 8, 3, 6, 1, 2], [3, 1, 7, 6, 8, 2, 5, 4], [6, 1, 5, 3, 4, 7, 8, 2], [5, 7, 4, 8, 3, 2, 1, 6]])"
      ]
     },
     "execution_count": 2,
     "metadata": {},
     "output_type": "execute_result"
    }
   ],
   "source": [
    "m=8\n",
    "a, male_prefs, female_prefs=genprefs(m)"
   ]
  },
  {
   "cell_type": "markdown",
   "metadata": {
    "collapsed": true
   },
   "source": [
    "<font size = 4>次に、考え得るマッチングを全て抽出し、安定マッチングのみを抽出する。安定マッチングは、抜け駆けを望むペアが存在しないことである。</font>"
   ]
  },
  {
   "cell_type": "code",
   "execution_count": 3,
   "metadata": {},
   "outputs": [
    {
     "data": {
      "text/plain": [
       "stablematches (generic function with 1 method)"
      ]
     },
     "execution_count": 3,
     "metadata": {},
     "output_type": "execute_result"
    }
   ],
   "source": [
    "using Combinatorics #組み合わせを与えるライブラリを用いる\n",
    "\n",
    "function stablematches(male_prefs, female_prefs, a, m)\n",
    "possiblematches=collect(permutations(a)) #男女同数、全員マッチの条件を置いているため、男性のマッチ結果のみで十分\n",
    "\n",
    "    function stable(possiblematches)\n",
    "    Boo=Array{Bool}(length(possiblematches))\n",
    "    Boo[1:end]=true\n",
    "        for k in 1:length(possiblematches)\n",
    "            for male in 1:m\n",
    "                if find(x->(x==possiblematches[k][male]),male_prefs[male])[1]!=1\n",
    "                    for female in male_prefs[male][1:find(x->(x==possiblematches[k][male]),male_prefs[male])[1]-1]\n",
    "                        matchedmale=find(x->(x==female),possiblematches[k])[1]\n",
    "                        if find(x->(x==matchedmale),female_prefs[female])[1]>find(x->(x==male),female_prefs[female])[1]\n",
    "                            Boo[k]=false\n",
    "                        #ある男のマッチ相手より上位の女性の中に、その女性のマッチ相手よりその男性を好む人がいる場合、falseを返す\n",
    "                        end\n",
    "                    end\n",
    "                end\n",
    "            end\n",
    "        end\n",
    "    return possiblematches[Boo] #Boolianを用いて、安定でないマッチングを落とす\n",
    "    end\n",
    "\n",
    "    stable(possiblematches)\n",
    "end"
   ]
  },
  {
   "cell_type": "code",
   "execution_count": 4,
   "metadata": {},
   "outputs": [
    {
     "data": {
      "text/plain": [
       "7-element Array{Array{Int64,1},1}:\n",
       " [3, 1, 6, 2, 7, 4, 8, 5]\n",
       " [4, 1, 6, 3, 2, 7, 8, 5]\n",
       " [4, 1, 6, 3, 5, 7, 8, 2]\n",
       " [4, 2, 6, 3, 5, 7, 8, 1]\n",
       " [7, 1, 6, 3, 2, 4, 8, 5]\n",
       " [7, 1, 6, 3, 5, 4, 8, 2]\n",
       " [7, 2, 6, 3, 5, 4, 8, 1]"
      ]
     },
     "execution_count": 4,
     "metadata": {},
     "output_type": "execute_result"
    }
   ],
   "source": [
    "st=stablematches(male_prefs, female_prefs, a, m)"
   ]
  },
  {
   "cell_type": "markdown",
   "metadata": {},
   "source": [
    "<font size = 4>安定マッチングの結果が全て表示された。（男女同数、全員マッチのため、男性のマッチ結果のみを返している）</font>"
   ]
  },
  {
   "cell_type": "markdown",
   "metadata": {},
   "source": [
    "<font size = 4>ここで、あるマッチングから男性／女性が得る効用を、マッチ相手の自分の中での順位の総和と定義する。（値が小さいほど効用が大きい）</font>"
   ]
  },
  {
   "cell_type": "code",
   "execution_count": 5,
   "metadata": {},
   "outputs": [
    {
     "data": {
      "text/plain": [
       "benefit (generic function with 1 method)"
      ]
     },
     "execution_count": 5,
     "metadata": {},
     "output_type": "execute_result"
    }
   ],
   "source": [
    "function benefit(stablematches)\n",
    "    malebenefit=zeros(Int64,length(stablematches))\n",
    "    femalebenefit=zeros(Int64,length(stablematches))\n",
    "    totalbenefit=zeros(Int64,length(stablematches))\n",
    "\n",
    "    for k in 1:length(stablematches)\n",
    "        for j in 1:m\n",
    "            malebenefit[k]+=find(x->(x==stablematches[k][j]),male_prefs[j])[1]\n",
    "            femalebenefit[k]+=find(x->(x==j),female_prefs[stablematches[k][j]])[1]\n",
    "        end\n",
    "\n",
    "        totalbenefit[k]=malebenefit[k]+femalebenefit[k]\n",
    "    end\n",
    "\n",
    "malebenefit, femalebenefit, totalbenefit\n",
    "end"
   ]
  },
  {
   "cell_type": "markdown",
   "metadata": {},
   "source": [
    "<font size = 4>実際に男性の効用、女性の効用、両者の和を計算すると以下のようになる。</font>"
   ]
  },
  {
   "cell_type": "code",
   "execution_count": 6,
   "metadata": {},
   "outputs": [
    {
     "data": {
      "text/plain": [
       "([10, 19, 24, 29, 16, 21, 26], [40, 32, 28, 20, 35, 31, 23], [50, 51, 52, 49, 51, 52, 49])"
      ]
     },
     "execution_count": 6,
     "metadata": {},
     "output_type": "execute_result"
    }
   ],
   "source": [
    "benefit(st)"
   ]
  },
  {
   "cell_type": "markdown",
   "metadata": {},
   "source": [
    "<font size = 4>すなわち、この例だと、最も男性にとって望ましいのは１つ目のマッチ結果で、最も女性にとって望ましいのは４つ目のマッチ結果である。一方、社会全体では４つ目か７つ目が最も望ましい。</font>"
   ]
  },
  {
   "cell_type": "markdown",
   "metadata": {},
   "source": [
    "<font size = 4>ここで、Deferred Acceptanceによってマッチングをし、男性のマッチ結果を取り出してみる</font>"
   ]
  },
  {
   "cell_type": "code",
   "execution_count": 7,
   "metadata": {},
   "outputs": [
    {
     "data": {
      "text/plain": [
       "([3, 1, 6, 2, 7, 4, 8, 5], [4, 2, 6, 3, 5, 7, 8, 1])"
      ]
     },
     "execution_count": 7,
     "metadata": {},
     "output_type": "execute_result"
    }
   ],
   "source": [
    "using MyMatching\n",
    "match=(my_deferred_acceptance(male_prefs, female_prefs)[1], my_deferred_acceptance(female_prefs, male_prefs)[2])"
   ]
  },
  {
   "cell_type": "markdown",
   "metadata": {},
   "source": [
    "<font size = 4>男性が先提案、女性が先提案について、男性のマッチ結果を返している。</font>"
   ]
  },
  {
   "cell_type": "markdown",
   "metadata": {},
   "source": [
    "<font size = 4>これについて効用を計算してみると、</font>"
   ]
  },
  {
   "cell_type": "code",
   "execution_count": 8,
   "metadata": {},
   "outputs": [
    {
     "data": {
      "text/plain": [
       "([10, 29], [40, 20], [50, 49])"
      ]
     },
     "execution_count": 8,
     "metadata": {},
     "output_type": "execute_result"
    }
   ],
   "source": [
    "benefit(match)"
   ]
  },
  {
   "cell_type": "markdown",
   "metadata": {},
   "source": [
    "<font size = 4>実際に男性先提案の場合は男性の効用が１０となって安定マッチングの中で最も男性優位に、女性先提案の場合は女性の効用が２０となって安定マッチングの中で最も女性優位になっていることがわかる。</font>"
   ]
  }
 ],
 "metadata": {
  "kernelspec": {
   "display_name": "Julia 0.6.0",
   "language": "julia",
   "name": "julia-0.6"
  },
  "language_info": {
   "file_extension": ".jl",
   "mimetype": "application/julia",
   "name": "julia",
   "version": "0.6.0"
  }
 },
 "nbformat": 4,
 "nbformat_minor": 2
}
